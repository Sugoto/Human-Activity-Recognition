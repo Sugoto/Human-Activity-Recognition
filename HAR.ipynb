{
 "cells": [
  {
   "cell_type": "markdown",
   "metadata": {},
   "source": [
    "## Human Activity Recognition - Group 7"
   ]
  },
  {
   "cell_type": "markdown",
   "metadata": {},
   "source": [
    "#### Importing necessary libraries"
   ]
  },
  {
   "cell_type": "code",
   "execution_count": 10,
   "metadata": {},
   "outputs": [],
   "source": [
    "from pandas import read_csv\n",
    "from sklearn.metrics import accuracy_score\n",
    "from sklearn.neighbors import KNeighborsClassifier\n",
    "from sklearn.tree import DecisionTreeClassifier\n",
    "from sklearn.svm import SVC\n",
    "from sklearn.naive_bayes import GaussianNB\n",
    "from sklearn.ensemble import BaggingClassifier\n",
    "from sklearn.ensemble import RandomForestClassifier\n",
    "from sklearn.ensemble import ExtraTreesClassifier\n",
    "from sklearn.ensemble import GradientBoostingClassifier"
   ]
  },
  {
   "cell_type": "markdown",
   "metadata": {},
   "source": [
    "#### Function to load a single file as a numpy array"
   ]
  },
  {
   "cell_type": "code",
   "execution_count": 11,
   "metadata": {},
   "outputs": [],
   "source": [
    "def load_file(filepath):\n",
    "    df = read_csv(filepath, header=None, delim_whitespace=True)\n",
    "    return df.values"
   ]
  },
  {
   "cell_type": "markdown",
   "metadata": {},
   "source": [
    "#### Function to load a dataset group"
   ]
  },
  {
   "cell_type": "code",
   "execution_count": 12,
   "metadata": {},
   "outputs": [],
   "source": [
    "def load_dataset_group(group, prefix=''):\n",
    "    X = load_file(prefix + group + '/X_' + group + '.txt')\n",
    "    y = load_file(prefix + group + '/y_' + group + '.txt')\n",
    "    return X, y"
   ]
  },
  {
   "cell_type": "markdown",
   "metadata": {},
   "source": [
    "#### Function to load the dataset and return train and test elements"
   ]
  },
  {
   "cell_type": "code",
   "execution_count": 13,
   "metadata": {},
   "outputs": [],
   "source": [
    "def load_dataset(prefix=''):\n",
    "    print('Dimensions of the dataset:')\n",
    "\n",
    "    train_X, train_y = load_dataset_group('train', f'{prefix}HARDataset/')\n",
    "    print(train_X.shape, train_y.shape)\n",
    "    test_X, test_y = load_dataset_group('test', f'{prefix}HARDataset/')\n",
    "    print(test_X.shape, test_y.shape)\n",
    "\n",
    "    train_y, test_y = train_y[:, 0], test_y[:, 0]\n",
    "    print(train_X.shape, train_y.shape, test_X.shape, test_y.shape)\n",
    "    \n",
    "    return train_X, train_y, test_X, test_y"
   ]
  },
  {
   "cell_type": "markdown",
   "metadata": {},
   "source": [
    "#### Function to create a dictionary of models to evaluate"
   ]
  },
  {
   "cell_type": "code",
   "execution_count": 14,
   "metadata": {},
   "outputs": [],
   "source": [
    "def define_models(models=dict()):\n",
    "    models['KNN'] = KNeighborsClassifier(n_neighbors=7)\n",
    "    models['CART'] = DecisionTreeClassifier()\n",
    "    models['SVM'] = SVC()\n",
    "    models['Naive Bayes'] = GaussianNB()\n",
    "    # models['Bagging'] = BaggingClassifier(n_estimators=100)\n",
    "    # models['Random Forest'] = RandomForestClassifier(n_estimators=100)\n",
    "    # models['Extra Trees'] = ExtraTreesClassifier(n_estimators=100)\n",
    "    # models['Gradient Boosting'] = GradientBoostingClassifier(n_estimators=100)\n",
    "    print()\n",
    "    print('Training %d models...' % len(models))\n",
    "    return models"
   ]
  },
  {
   "cell_type": "markdown",
   "metadata": {},
   "source": [
    "#### Function to train a single model"
   ]
  },
  {
   "cell_type": "code",
   "execution_count": 15,
   "metadata": {},
   "outputs": [],
   "source": [
    "def train_model(train_X, train_y, test_X, test_y, model):\n",
    "    model.fit(train_X, train_y)\n",
    "    y_pred = model.predict(test_X)\n",
    "    return accuracy_score(test_y, y_pred) * 100.0\n"
   ]
  },
  {
   "cell_type": "markdown",
   "metadata": {},
   "source": [
    "#### Function to evaluate a dictionary of models"
   ]
  },
  {
   "cell_type": "code",
   "execution_count": 16,
   "metadata": {},
   "outputs": [],
   "source": [
    "def evaluate_models(train_X, train_y, test_X, test_y, models):\n",
    "    results = {}\n",
    "    for name, model in models.items():\n",
    "        results[name] = train_model(train_X, train_y, test_X, test_y, model)\n",
    "        print('%s: %.3f' % (name, results[name]))\n",
    "    return results\n"
   ]
  },
  {
   "cell_type": "markdown",
   "metadata": {},
   "source": [
    "#### Function to print the results of each model"
   ]
  },
  {
   "cell_type": "code",
   "execution_count": 17,
   "metadata": {},
   "outputs": [],
   "source": [
    "def summarize_results(results):\n",
    "    mean_scores = list(results.items())\n",
    "    mean_scores = sorted(mean_scores, key=lambda x: x[1])\n",
    "    mean_scores = list(reversed(mean_scores))\n",
    "    print()\n",
    "    print('In order of decreasing accuracy:')\n",
    "    for name, score in mean_scores:\n",
    "        print('%s - %.3f' % (name, score))"
   ]
  },
  {
   "cell_type": "markdown",
   "metadata": {},
   "source": [
    "#### Final execution"
   ]
  },
  {
   "cell_type": "code",
   "execution_count": 18,
   "metadata": {},
   "outputs": [
    {
     "name": "stdout",
     "output_type": "stream",
     "text": [
      "Dimensions of the dataset:\n",
      "(7352, 561) (7352, 1)\n",
      "(2947, 561) (2947, 1)\n",
      "(7352, 561) (7352,) (2947, 561) (2947,)\n",
      "\n",
      "Training 4 models...\n",
      "KNN: 90.329\n",
      "CART: 85.952\n",
      "SVM: 95.046\n",
      "Naive Bayes: 77.027\n",
      "\n",
      "In order of decreasing accuracy:\n",
      "SVM - 95.046\n",
      "KNN - 90.329\n",
      "CART - 85.952\n",
      "Naive Bayes - 77.027\n"
     ]
    }
   ],
   "source": [
    "train_X, train_y, test_X, test_y = load_dataset()\n",
    "\n",
    "models = define_models()\n",
    "\n",
    "results = evaluate_models(train_X, train_y, test_X, test_y, models)\n",
    "\n",
    "summarize_results(results)"
   ]
  }
 ],
 "metadata": {
  "interpreter": {
   "hash": "fef154d23f8f2671be925d2bffb5d4172aff7e26893ba260265f40fc4a56edb9"
  },
  "kernelspec": {
   "display_name": "Python 3.10.4 64-bit (windows store)",
   "language": "python",
   "name": "python3"
  },
  "language_info": {
   "codemirror_mode": {
    "name": "ipython",
    "version": 3
   },
   "file_extension": ".py",
   "mimetype": "text/x-python",
   "name": "python",
   "nbconvert_exporter": "python",
   "pygments_lexer": "ipython3",
   "version": "3.10.5"
  },
  "orig_nbformat": 4
 },
 "nbformat": 4,
 "nbformat_minor": 2
}
