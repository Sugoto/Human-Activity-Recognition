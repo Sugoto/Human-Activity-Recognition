{
  "cells": [
    {
      "cell_type": "markdown",
      "metadata": {
        "id": "view-in-github",
        "colab_type": "text"
      },
      "source": [
        "<a href=\"https://colab.research.google.com/github/Sugoto/Human-Activity-Recognition/blob/main/HAR_using_LSTM.ipynb\" target=\"_parent\"><img src=\"https://colab.research.google.com/assets/colab-badge.svg\" alt=\"Open In Colab\"/></a>"
      ]
    },
    {
      "cell_type": "markdown",
      "source": [
        "# **HAR using LSTM model with Convolution**"
      ],
      "metadata": {
        "id": "eweB_pcR4JFY"
      }
    },
    {
      "cell_type": "markdown",
      "source": [
        "#### Mount Google Drive if the dataset has been uploaded"
      ],
      "metadata": {
        "id": "VXIw-Umb3U6t"
      }
    },
    {
      "cell_type": "code",
      "execution_count": 1,
      "metadata": {
        "colab": {
          "base_uri": "https://localhost:8080/"
        },
        "id": "t2QTYCCu6VOj",
        "outputId": "0f1245fe-aeaf-4649-9fa1-8337030e3a09"
      },
      "outputs": [
        {
          "output_type": "stream",
          "name": "stdout",
          "text": [
            "Mounted at /content/drive\n"
          ]
        }
      ],
      "source": [
        "from google.colab import drive\n",
        "drive.mount('/content/drive')\n"
      ]
    },
    {
      "cell_type": "markdown",
      "source": [
        "#### Importing necessary libraries"
      ],
      "metadata": {
        "id": "mjCbqEyOXAFr"
      }
    },
    {
      "cell_type": "code",
      "execution_count": 2,
      "metadata": {
        "id": "xgRVFqU_lOA1"
      },
      "outputs": [],
      "source": [
        "import os\n",
        "import numpy as np\n",
        "from pandas import read_csv\n",
        "import matplotlib.pyplot as plt\n",
        "\n",
        "from keras.models import Sequential\n",
        "from keras.layers import Dense, Flatten, Dropout, LSTM, ConvLSTM2D\n",
        "from keras.utils import to_categorical\n",
        "from keras.callbacks import EarlyStopping\n",
        "\n",
        "from sklearn.model_selection import KFold\n"
      ]
    },
    {
      "cell_type": "markdown",
      "source": [
        "#### Loading and preprocessing data"
      ],
      "metadata": {
        "id": "NSMgt6i-XWse"
      }
    },
    {
      "cell_type": "code",
      "execution_count": 3,
      "metadata": {
        "id": "27q1cmxPovU-"
      },
      "outputs": [],
      "source": [
        "def load_file(filepath):\n",
        "    data = read_csv(filepath, header=None, delim_whitespace=True, dtype=np.float32)\n",
        "    return data.values\n",
        "\n",
        "\n",
        "def load_group(filenames, prefix=''):\n",
        "    loaded = [load_file(os.path.join(prefix, name)) for name in filenames]\n",
        "    return np.dstack(loaded)\n",
        "\n",
        "\n",
        "def load_dataset_group(group, prefix=''):\n",
        "    filepath = os.path.join(prefix, group, 'Inertial Signals')\n",
        "    filenames = [\n",
        "        f'total_acc_x_{group}.txt',\n",
        "        f'total_acc_y_{group}.txt',\n",
        "        f'total_acc_z_{group}.txt',\n",
        "        f'body_acc_x_{group}.txt',\n",
        "        f'body_acc_y_{group}.txt',\n",
        "        f'body_acc_z_{group}.txt',\n",
        "        f'body_gyro_x_{group}.txt',\n",
        "        f'body_gyro_y_{group}.txt',\n",
        "        f'body_gyro_z_{group}.txt'\n",
        "    ]\n",
        "\n",
        "    X = load_group(filenames, filepath)\n",
        "    y = load_file(os.path.join(prefix, group, f'y_{group}.txt'))\n",
        "    y = y - 1\n",
        "    y = to_categorical(y)\n",
        "\n",
        "    return X, y\n",
        "\n",
        "\n",
        "def load_dataset(prefix=''):\n",
        "    train_X, train_y = load_dataset_group('train', os.path.join(prefix, '/content/drive/MyDrive/Colab Notebooks/Datasets/HAR_UCI'))\n",
        "    test_X, test_y = load_dataset_group('test', os.path.join(prefix, '/content/drive/MyDrive/Colab Notebooks/Datasets/HAR_UCI'))\n",
        "\n",
        "    return train_X, train_y, test_X, test_y\n"
      ]
    },
    {
      "cell_type": "markdown",
      "source": [
        "#### Training and evaluating the LSTM model "
      ],
      "metadata": {
        "id": "U8GrM8iiXYpK"
      }
    },
    {
      "cell_type": "code",
      "execution_count": 20,
      "metadata": {
        "id": "nBqdpjb_o1fS"
      },
      "outputs": [],
      "source": [
        "def evaluate_model(trainX, trainy, testX, testy):\n",
        "    verbose, epochs, batch_size = 0, 50, 64\n",
        "    n_timesteps, n_features, n_outputs = trainX.shape[1], trainX.shape[2], trainy.shape[1]\n",
        "    n_steps, n_length = 4, 32\n",
        "    trainX = trainX.reshape(\n",
        "        (trainX.shape[0], n_steps, 1, n_length, n_features))\n",
        "    testX = testX.reshape((testX.shape[0], n_steps, 1, n_length, n_features))\n",
        "\n",
        "    early_stop = EarlyStopping(\n",
        "        monitor='val_loss', patience=10, verbose=1, mode='min', restore_best_weights=True)\n",
        "\n",
        "    model = Sequential()\n",
        "    model.add(ConvLSTM2D(filters=64, kernel_size=(\n",
        "        1, 3), activation='relu', input_shape=(n_steps, 1, n_length, n_features)))\n",
        "    model.add(Dropout(0.5))\n",
        "    model.add(Flatten())\n",
        "    model.add(Dense(100, activation='relu'))\n",
        "    model.add(Dense(n_outputs, activation='softmax'))\n",
        "    model.compile(loss='categorical_crossentropy',\n",
        "                  optimizer=\"adam\", metrics=['accuracy'])\n",
        "\n",
        "    history = model.fit(trainX, trainy, epochs=epochs, batch_size=batch_size,\n",
        "                        verbose=verbose, validation_data=(testX, testy), callbacks=[early_stop])\n",
        "\n",
        "    _, accuracy = model.evaluate(\n",
        "        testX, testy, batch_size=batch_size, verbose=0)\n",
        "\n",
        "    return accuracy, history\n"
      ]
    },
    {
      "cell_type": "markdown",
      "source": [
        "#### Running and summarizing results of a training pass using K-Fold Cross Validation"
      ],
      "metadata": {
        "id": "cialVDlE4DqB"
      }
    },
    {
      "cell_type": "code",
      "execution_count": 21,
      "metadata": {
        "colab": {
          "base_uri": "https://localhost:8080/",
          "height": 628
        },
        "id": "RAuqmJxw5vUM",
        "outputId": "05f3996e-2bdf-459a-f64d-48ef37d2899a"
      },
      "outputs": [
        {
          "output_type": "stream",
          "name": "stdout",
          "text": [
            "Pass 1, Fold 1: 97.213\n",
            "Restoring model weights from the end of the best epoch: 31.\n",
            "Epoch 41: early stopping\n",
            "Pass 1, Fold 2: 97.213\n",
            "Pass 1, Fold 3: 97.891\n",
            "Pass 1, Fold 4: 97.347\n",
            "Pass 1, Fold 5: 97.823\n"
          ]
        },
        {
          "output_type": "display_data",
          "data": {
            "text/plain": [
              "<Figure size 640x480 with 1 Axes>"
            ],
            "image/png": "[encoded data removed]"
          },
          "metadata": {}
        },
        {
          "output_type": "stream",
          "name": "stdout",
          "text": [
            "\n",
            "Mean Accuracy: 97.497% (+/-0.000)\n"
          ]
        }
      ],
      "source": [
        "def summarize_results(scores):\n",
        "    mean_scores = np.mean(scores, axis=0)\n",
        "    std_scores = np.std(scores, axis=0)\n",
        "    plt.plot(mean_scores)\n",
        "    plt.fill_between(range(len(mean_scores)), mean_scores - std_scores, mean_scores + std_scores, alpha=0.1)\n",
        "    plt.title('Model Accuracy for Each Fold')\n",
        "    plt.ylabel('Accuracy (%)')\n",
        "    plt.xlabel('Fold')\n",
        "    plt.show()\n",
        "\n",
        "    print(f'\\nMean Accuracy: {np.mean(mean_scores):.3f}% (+/-{np.mean(std_scores):.3f})')\n",
        "\n",
        "\n",
        "def run_experiment(repeats=1):\n",
        "    train_X, train_y, test_X, test_y = load_dataset()\n",
        "    all_scores = []\n",
        "    kf = KFold(n_splits=5, shuffle=True, random_state=42)\n",
        "\n",
        "    for r in range(repeats):\n",
        "        fold_scores = []\n",
        "        for i, (train_idx, val_idx) in enumerate(kf.split(train_X), 1):\n",
        "            X_train, X_val = train_X[train_idx], train_X[val_idx]\n",
        "            y_train, y_val = train_y[train_idx], train_y[val_idx]\n",
        "\n",
        "            score = evaluate_model(X_train, y_train, X_val, y_val)[0] * 100.0\n",
        "            fold_scores.append(score)\n",
        "            print(f'Pass {r+1}, Fold {i}: {score:.3f}')\n",
        "\n",
        "        all_scores.append(fold_scores)\n",
        "\n",
        "    summarize_results(all_scores)\n",
        "\n",
        "\n",
        "run_experiment()\n"
      ]
    }
  ],
  "metadata": {
    "accelerator": "GPU",
    "colab": {
      "provenance": [],
      "include_colab_link": true
    },
    "gpuClass": "standard",
    "hide_input": false,
    "kernelspec": {
      "display_name": "Python 3",
      "language": "python",
      "name": "python3"
    },
    "language_info": {
      "codemirror_mode": {
        "name": "ipython",
        "version": 3
      },
      "file_extension": ".py",
      "mimetype": "text/x-python",
      "name": "python",
      "nbconvert_exporter": "python",
      "pygments_lexer": "ipython3",
      "version": "3.6.8"
    }
  },
  "nbformat": 4,
  "nbformat_minor": 0
}